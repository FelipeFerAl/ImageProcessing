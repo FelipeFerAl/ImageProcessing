{
  "nbformat": 4,
  "nbformat_minor": 0,
  "metadata": {
    "colab": {
      "provenance": [],
      "authorship_tag": "ABX9TyPooYGM9JwRm4F9yZiAm9SJ",
      "include_colab_link": true
    },
    "kernelspec": {
      "name": "python3",
      "display_name": "Python 3"
    },
    "language_info": {
      "name": "python"
    }
  },
  "cells": [
    {
      "cell_type": "markdown",
      "metadata": {
        "id": "view-in-github",
        "colab_type": "text"
      },
      "source": [
        "<a href=\"https://colab.research.google.com/github/FelipeFerAl/ImageProcessing/blob/main/KerasTunerIm%C3%A1genes.ipynb\" target=\"_parent\"><img src=\"https://colab.research.google.com/assets/colab-badge.svg\" alt=\"Open In Colab\"/></a>"
      ]
    },
    {
      "cell_type": "code",
      "execution_count": null,
      "metadata": {
        "id": "QRVYx5yY9NYP"
      },
      "outputs": [],
      "source": [
        "!pip install keras-tuner --upgrade\n",
        "import keras_tuner\n",
        "import keras"
      ]
    },
    {
      "cell_type": "code",
      "source": [
        "from keras import layers\n",
        "from keras_tuner.tuners import RandomSearch"
      ],
      "metadata": {
        "id": "Or8guhgj9ab9"
      },
      "execution_count": null,
      "outputs": []
    },
    {
      "cell_type": "code",
      "source": [
        "def build_model(hp):\n",
        "    model = keras.Sequential()\n",
        "\n",
        "    # Add Conv2D layer with tunable filters and kernel size\n",
        "    model.add(keras.layers.Conv2D(\n",
        "            filters=hp.Int('filters', min_value=32, max_value=128, step=32),\n",
        "            kernel_size=hp.Choice('kernel_size', values=[3, 5]),\n",
        "            activation='relu',\n",
        "            input_shape = (N, N, 3) #Tamaño entrada datos\n",
        "            ))\n",
        "\n",
        "    # Optional: Add a pooling layer to reduce the spatial dimensions\n",
        "    model.add(keras.layers.MaxPooling2D(pool_size=(2, 2)))\n",
        "\n",
        "    model.add(keras.layers.GlobalAveragePooling2D())\n",
        "\n",
        "    model.add(layers.Flatten())\n",
        "    model.add(\n",
        "        layers.Dense(\n",
        "            # Tune number of units.\n",
        "            units=hp.Int(\"units\", min_value=32, max_value=512, step=32),\n",
        "            # Tune the activation function to use.\n",
        "            activation=hp.Choice(\"activation\", [\"relu\", \"tanh\"]),\n",
        "        )\n",
        "    )\n",
        "    # Tune whether to use dropout.\n",
        "    if hp.Boolean(\"dropout\"):\n",
        "        model.add(layers.Dropout(rate=0.25))\n",
        "    model.add(layers.Dense(1, activation=\"sigmoid\"))\n",
        "    # Define the optimizer learning rate as a hyperparameter.\n",
        "    learning_rate = hp.Float(\"lr\", min_value=1e-4, max_value=1e-2, sampling=\"log\")\n",
        "    model.compile(\n",
        "        optimizer=keras.optimizers.Adam(learning_rate=learning_rate),\n",
        "        loss=\"#\",\n",
        "        metrics=[\"accuracy\"],\n",
        "    )\n",
        "    return model\n",
        "\n",
        "build_model(keras_tuner.HyperParameters())"
      ],
      "metadata": {
        "id": "SX8EVu_d9eLt"
      },
      "execution_count": null,
      "outputs": []
    },
    {
      "cell_type": "code",
      "source": [
        "tuner = RandomSearch(\n",
        "    build_model,\n",
        "    objective='loss',\n",
        "    max_trials=#,  # Number of different hyperparameter combinations to try\n",
        "    executions_per_trial=#,  # Number of times to repeat each trial for more reliable results\n",
        "    directory='my_dir',\n",
        "    project_name='#'\n",
        ")"
      ],
      "metadata": {
        "id": "ypZNSimP9zDH"
      },
      "execution_count": null,
      "outputs": []
    },
    {
      "cell_type": "code",
      "source": [
        "import shutil\n",
        "# Eliminar el directorio donde se almacenan los resultados de la búsqueda\n",
        "# shutil.rmtree('my_dir', ignore_errors=True)"
      ],
      "metadata": {
        "id": "G293JMNO-Ajl"
      },
      "execution_count": null,
      "outputs": []
    },
    {
      "cell_type": "code",
      "source": [
        "tuner.search() #DATOS"
      ],
      "metadata": {
        "id": "jGlIZ9Fj-DJ0"
      },
      "execution_count": null,
      "outputs": []
    },
    {
      "cell_type": "code",
      "source": [
        "# Get the best model\n",
        "best_model = tuner.get_best_models(num_models=1)\n",
        "\n",
        "# Summary of the best model\n",
        "model = best_model[0]\n",
        "\n",
        "model.summary()"
      ],
      "metadata": {
        "id": "ggUvcupy-M1K"
      },
      "execution_count": null,
      "outputs": []
    },
    {
      "cell_type": "code",
      "source": [
        "hps = tuner.get_best_hyperparameters()\n",
        "hps[0].values"
      ],
      "metadata": {
        "id": "C8lSLe0j-34i"
      },
      "execution_count": null,
      "outputs": []
    },
    {
      "cell_type": "code",
      "source": [
        "model.save('best_model.keras')"
      ],
      "metadata": {
        "id": "Zif_l5mP-0UV"
      },
      "execution_count": null,
      "outputs": []
    }
  ]
}