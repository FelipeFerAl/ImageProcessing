{
  "nbformat": 4,
  "nbformat_minor": 0,
  "metadata": {
    "colab": {
      "provenance": [],
      "authorship_tag": "ABX9TyN6NB72xrVEERmWCyNWh6ql",
      "include_colab_link": true
    },
    "kernelspec": {
      "name": "python3",
      "display_name": "Python 3"
    },
    "language_info": {
      "name": "python"
    }
  },
  "cells": [
    {
      "cell_type": "markdown",
      "metadata": {
        "id": "view-in-github",
        "colab_type": "text"
      },
      "source": [
        "<a href=\"https://colab.research.google.com/github/FelipeFerAl/ImageProcessing/blob/main/RepasoPython.ipynb\" target=\"_parent\"><img src=\"https://colab.research.google.com/assets/colab-badge.svg\" alt=\"Open In Colab\"/></a>"
      ]
    },
    {
      "cell_type": "code",
      "execution_count": null,
      "metadata": {
        "id": "5Z1ZtZuEI5GE"
      },
      "outputs": [],
      "source": [
        "a = 5 #Int\n",
        "b = 3+a #Int\n",
        "condi = True #Boolean\n",
        "h = (9,4) #Tupla\n",
        "d = {'Hola':1,'Adios':2} #Dictionary\n",
        "s = {1,3,4,5,6} #Set\n",
        "s1 = {3,4,8,6}\n",
        "f = 1.2 #Float"
      ]
    },
    {
      "cell_type": "code",
      "source": [
        "print(type(a),type(b),type(condi),type(h),type(d),type(s),type(f))"
      ],
      "metadata": {
        "colab": {
          "base_uri": "https://localhost:8080/"
        },
        "id": "ObkdLNmMK6jt",
        "outputId": "4129ed9b-eedc-4c96-c3c4-bf9e209fecc6"
      },
      "execution_count": null,
      "outputs": [
        {
          "output_type": "stream",
          "name": "stdout",
          "text": [
            "<class 'float'> <class 'int'> <class 'bool'> <class 'tuple'> <class 'dict'> <class 'set'> <class 'float'>\n"
          ]
        }
      ]
    },
    {
      "cell_type": "code",
      "source": [
        "print(type(a+1.1))"
      ],
      "metadata": {
        "colab": {
          "base_uri": "https://localhost:8080/"
        },
        "id": "FQCMG_TELvJc",
        "outputId": "d16eee2c-0bad-42b1-f8f3-010d110929b9"
      },
      "execution_count": null,
      "outputs": [
        {
          "output_type": "stream",
          "name": "stdout",
          "text": [
            "<class 'float'>\n"
          ]
        }
      ]
    },
    {
      "cell_type": "code",
      "source": [
        "print(type(int(condi)))"
      ],
      "metadata": {
        "colab": {
          "base_uri": "https://localhost:8080/"
        },
        "id": "9k_y9KQpL49n",
        "outputId": "d00d7a5a-ed2f-47c4-92ff-93cc98ae72b8"
      },
      "execution_count": null,
      "outputs": [
        {
          "output_type": "stream",
          "name": "stdout",
          "text": [
            "<class 'int'>\n"
          ]
        }
      ]
    },
    {
      "cell_type": "code",
      "source": [
        "print(s & s1) #and\n",
        "print(s | s1) #or\n",
        "print(s - s1) #difference"
      ],
      "metadata": {
        "colab": {
          "base_uri": "https://localhost:8080/"
        },
        "id": "L6LJYKwtL_3s",
        "outputId": "1139ab04-cdd9-4f02-ece4-501ef722771e"
      },
      "execution_count": null,
      "outputs": [
        {
          "output_type": "stream",
          "name": "stdout",
          "text": [
            "{3, 4, 6}\n",
            "{1, 3, 4, 5, 6, 8}\n",
            "{1, 5}\n"
          ]
        }
      ]
    },
    {
      "cell_type": "code",
      "source": [
        "a = 1.2\n",
        "if a > 1:\n",
        "    print('a es mayor a 1')\n",
        "elif a == 1:\n",
        "    print('a es igual a 1')\n",
        "elif a < 1:\n",
        "    print('a es menor a 1')\n",
        "else:\n",
        "    print('a es falso')"
      ],
      "metadata": {
        "colab": {
          "base_uri": "https://localhost:8080/"
        },
        "id": "9FCnbxY7Mdn-",
        "outputId": "2fa0e666-ad42-465b-c242-951c5ef50775"
      },
      "execution_count": null,
      "outputs": [
        {
          "output_type": "stream",
          "name": "stdout",
          "text": [
            "a es mayor a 1\n"
          ]
        }
      ]
    },
    {
      "cell_type": "code",
      "source": [
        "a = 0\n",
        "while a<100:\n",
        "  print(a)\n",
        "  a = a+1"
      ],
      "metadata": {
        "colab": {
          "base_uri": "https://localhost:8080/"
        },
        "collapsed": true,
        "id": "xfiUcgsXNkpZ",
        "outputId": "d0a5bcb4-32a9-4eb6-95c9-6a900284c77a"
      },
      "execution_count": null,
      "outputs": [
        {
          "output_type": "stream",
          "name": "stdout",
          "text": [
            "0\n",
            "1\n",
            "2\n",
            "3\n",
            "4\n",
            "5\n",
            "6\n",
            "7\n",
            "8\n",
            "9\n",
            "10\n",
            "11\n",
            "12\n",
            "13\n",
            "14\n",
            "15\n",
            "16\n",
            "17\n",
            "18\n",
            "19\n",
            "20\n",
            "21\n",
            "22\n",
            "23\n",
            "24\n",
            "25\n",
            "26\n",
            "27\n",
            "28\n",
            "29\n",
            "30\n",
            "31\n",
            "32\n",
            "33\n",
            "34\n",
            "35\n",
            "36\n",
            "37\n",
            "38\n",
            "39\n",
            "40\n",
            "41\n",
            "42\n",
            "43\n",
            "44\n",
            "45\n",
            "46\n",
            "47\n",
            "48\n",
            "49\n",
            "50\n",
            "51\n",
            "52\n",
            "53\n",
            "54\n",
            "55\n",
            "56\n",
            "57\n",
            "58\n",
            "59\n",
            "60\n",
            "61\n",
            "62\n",
            "63\n",
            "64\n",
            "65\n",
            "66\n",
            "67\n",
            "68\n",
            "69\n",
            "70\n",
            "71\n",
            "72\n",
            "73\n",
            "74\n",
            "75\n",
            "76\n",
            "77\n",
            "78\n",
            "79\n",
            "80\n",
            "81\n",
            "82\n",
            "83\n",
            "84\n",
            "85\n",
            "86\n",
            "87\n",
            "88\n",
            "89\n",
            "90\n",
            "91\n",
            "92\n",
            "93\n",
            "94\n",
            "95\n",
            "96\n",
            "97\n",
            "98\n",
            "99\n"
          ]
        }
      ]
    },
    {
      "cell_type": "code",
      "source": [
        "for i in range(100):\n",
        "  print(i)"
      ],
      "metadata": {
        "colab": {
          "base_uri": "https://localhost:8080/"
        },
        "collapsed": true,
        "id": "ucn2v0gKOyio",
        "outputId": "39a06493-4eab-4929-b41c-0380f8fde5ac"
      },
      "execution_count": null,
      "outputs": [
        {
          "output_type": "stream",
          "name": "stdout",
          "text": [
            "0\n",
            "1\n",
            "2\n",
            "3\n",
            "4\n",
            "5\n",
            "6\n",
            "7\n",
            "8\n",
            "9\n",
            "10\n",
            "11\n",
            "12\n",
            "13\n",
            "14\n",
            "15\n",
            "16\n",
            "17\n",
            "18\n",
            "19\n",
            "20\n",
            "21\n",
            "22\n",
            "23\n",
            "24\n",
            "25\n",
            "26\n",
            "27\n",
            "28\n",
            "29\n",
            "30\n",
            "31\n",
            "32\n",
            "33\n",
            "34\n",
            "35\n",
            "36\n",
            "37\n",
            "38\n",
            "39\n",
            "40\n",
            "41\n",
            "42\n",
            "43\n",
            "44\n",
            "45\n",
            "46\n",
            "47\n",
            "48\n",
            "49\n",
            "50\n",
            "51\n",
            "52\n",
            "53\n",
            "54\n",
            "55\n",
            "56\n",
            "57\n",
            "58\n",
            "59\n",
            "60\n",
            "61\n",
            "62\n",
            "63\n",
            "64\n",
            "65\n",
            "66\n",
            "67\n",
            "68\n",
            "69\n",
            "70\n",
            "71\n",
            "72\n",
            "73\n",
            "74\n",
            "75\n",
            "76\n",
            "77\n",
            "78\n",
            "79\n",
            "80\n",
            "81\n",
            "82\n",
            "83\n",
            "84\n",
            "85\n",
            "86\n",
            "87\n",
            "88\n",
            "89\n",
            "90\n",
            "91\n",
            "92\n",
            "93\n",
            "94\n",
            "95\n",
            "96\n",
            "97\n",
            "98\n",
            "99\n"
          ]
        }
      ]
    },
    {
      "cell_type": "code",
      "source": [
        "a = [1, 2.3, 'Hola mundo']\n",
        "a"
      ],
      "metadata": {
        "colab": {
          "base_uri": "https://localhost:8080/"
        },
        "id": "cNbX6V7SPuN8",
        "outputId": "c8e96a11-06dc-4bd6-afaf-5f166861e480"
      },
      "execution_count": null,
      "outputs": [
        {
          "output_type": "execute_result",
          "data": {
            "text/plain": [
              "[1, 2.3, 'Hola mundo']"
            ]
          },
          "metadata": {},
          "execution_count": 53
        }
      ]
    },
    {
      "cell_type": "code",
      "source": [
        "import numpy as np\n",
        "a = np.array(a)\n",
        "a"
      ],
      "metadata": {
        "colab": {
          "base_uri": "https://localhost:8080/"
        },
        "id": "U-iEHWa4PVg0",
        "outputId": "989e0215-95f0-44f0-af25-563da1454d2f"
      },
      "execution_count": null,
      "outputs": [
        {
          "output_type": "execute_result",
          "data": {
            "text/plain": [
              "array(['1', '2.3', 'Hola mundo'], dtype='<U32')"
            ]
          },
          "metadata": {},
          "execution_count": 58
        }
      ]
    },
    {
      "cell_type": "code",
      "source": [
        "matriz1 = np.array([[1,2,3],[4,5,6]])\n",
        "matriz2 = np.array([[7,4,3],[3,1,6]])\n",
        "matriz1+matriz2"
      ],
      "metadata": {
        "colab": {
          "base_uri": "https://localhost:8080/"
        },
        "id": "vgJIraP2Qayf",
        "outputId": "fd635ca8-7f4f-455f-e000-506848b923c3"
      },
      "execution_count": null,
      "outputs": [
        {
          "output_type": "execute_result",
          "data": {
            "text/plain": [
              "array([[ 8,  6,  6],\n",
              "       [ 7,  6, 12]])"
            ]
          },
          "metadata": {},
          "execution_count": 63
        }
      ]
    },
    {
      "cell_type": "code",
      "source": [
        "matriz1*matriz2 #NO operación matricial"
      ],
      "metadata": {
        "colab": {
          "base_uri": "https://localhost:8080/"
        },
        "id": "9XtH08mGRBaG",
        "outputId": "ef510e20-0dcb-4c32-a07f-5b1c02b05f29"
      },
      "execution_count": null,
      "outputs": [
        {
          "output_type": "execute_result",
          "data": {
            "text/plain": [
              "array([[ 7,  8,  9],\n",
              "       [12,  5, 36]])"
            ]
          },
          "metadata": {},
          "execution_count": 68
        }
      ]
    },
    {
      "cell_type": "code",
      "source": [
        "matriz1.shape,matriz2.shape"
      ],
      "metadata": {
        "colab": {
          "base_uri": "https://localhost:8080/"
        },
        "id": "c30qk6q9RMOi",
        "outputId": "9f9d0e2e-6d51-407d-9808-32a87de95d19"
      },
      "execution_count": null,
      "outputs": [
        {
          "output_type": "execute_result",
          "data": {
            "text/plain": [
              "((2, 3), (2, 3))"
            ]
          },
          "metadata": {},
          "execution_count": 65
        }
      ]
    },
    {
      "cell_type": "code",
      "source": [
        "matriz1@matriz2.T\n",
        "#Ó np.matmul(matriz1,matriz2.T)\n",
        "#Ó np.dot(matriz1,matriz2.T) || matriz1.dot(matriz2.T)"
      ],
      "metadata": {
        "colab": {
          "base_uri": "https://localhost:8080/"
        },
        "id": "jP_wAfb_RZRj",
        "outputId": "b9a3ea03-c457-45c1-8ed6-77a27ca9f472"
      },
      "execution_count": null,
      "outputs": [
        {
          "output_type": "execute_result",
          "data": {
            "text/plain": [
              "array([[24, 23],\n",
              "       [66, 53]])"
            ]
          },
          "metadata": {},
          "execution_count": 70
        }
      ]
    },
    {
      "cell_type": "code",
      "source": [
        "import matplotlib.pyplot as plt\n",
        "\n",
        "def delta_dirac(pos):\n",
        "  amplitude = 1\n",
        "  t = np.linspace(pos-3,pos+3,1000)\n",
        "  sigma = 0.01\n",
        "\n",
        "  # Gaussian approximation of Dirac delta function\n",
        "  delta_function = amplitude * np.exp(-((t - pos) ** 2) / (2 * sigma ** 2))\n",
        "\n",
        "  plt.figure(figsize=(16,5))\n",
        "  plt.plot(t, delta_function, label=r\"Gaussian approximation of $\\delta(x - x_0)$\")\n",
        "  # Customize plot\n",
        "  plt.xlabel(\"Time\")\n",
        "  plt.ylabel(\"Amplitude\")\n",
        "  plt.title(f\"Dirac Delta Function at x = {pos}\")\n",
        "  plt.xlim(pos-1,pos+1)\n",
        "  plt.legend()\n",
        "  # Show plot\n",
        "  plt.show()"
      ],
      "metadata": {
        "id": "cdYkMwQCSDHh"
      },
      "execution_count": null,
      "outputs": []
    },
    {
      "cell_type": "code",
      "source": [
        "delta_dirac(5)"
      ],
      "metadata": {
        "colab": {
          "base_uri": "https://localhost:8080/",
          "height": 427
        },
        "id": "LTxFHs8BVqJD",
        "outputId": "89a1800d-0eb1-416c-ea4d-8a089aeaef8a"
      },
      "execution_count": null,
      "outputs": [
        {
          "output_type": "display_data",
          "data": {
            "text/plain": [
              "<Figure size 1600x500 with 1 Axes>"
            ],
            "image/png": "[encoded data removed]"
          },
          "metadata": {}
        }
      ]
    },
    {
      "cell_type": "code",
      "source": [
        "class Coche:\n",
        "  def __init__(self,marca,modelo,color):\n",
        "    self.marca = marca\n",
        "    self.modelo = modelo\n",
        "    self.color = color\n",
        "\n",
        "  def arranque(self, direccion):\n",
        "    print(f'El {self.marca} {self.modelo} arranca a la {direccion}')\n",
        "\n",
        "  def freno(self):\n",
        "    print(f'El {self.marca} {self.modelo} frena')\n",
        "\n",
        "  def __str__(self):\n",
        "    return f'El coche es un {self.marca} {self.modelo} de color {self.color}'"
      ],
      "metadata": {
        "id": "RzYkI7UjWzgn"
      },
      "execution_count": null,
      "outputs": []
    },
    {
      "cell_type": "code",
      "source": [
        "Coche1 = Coche('Ferrari','F40','Negro')\n",
        "Coche2 = Coche('Lamborghini','Aventador','Rojo')\n",
        "Coche3 = Coche('Ford','Mustang','Azul')\n",
        "Coche4 = Coche('Toyota','Corolla','Blanco')\n",
        "Coche5 = Coche('Chevrolet','Camaro','Rojo')"
      ],
      "metadata": {
        "id": "-mLDl8yQZOVT"
      },
      "execution_count": null,
      "outputs": []
    },
    {
      "cell_type": "code",
      "source": [
        "Coche4.__str__()"
      ],
      "metadata": {
        "colab": {
          "base_uri": "https://localhost:8080/",
          "height": 35
        },
        "id": "LpBcBH9eaWwv",
        "outputId": "c926a44a-98a0-412e-ebbe-af1cb2d3cdc9"
      },
      "execution_count": null,
      "outputs": [
        {
          "output_type": "execute_result",
          "data": {
            "text/plain": [
              "'El coche es un Toyota Corolla de color Blanco'"
            ],
            "application/vnd.google.colaboratory.intrinsic+json": {
              "type": "string"
            }
          },
          "metadata": {},
          "execution_count": 143
        }
      ]
    },
    {
      "cell_type": "code",
      "source": [
        "class Empleado:\n",
        "  def __init__(self,nombre,edad,puesto,salario):\n",
        "    self.nombre = nombre\n",
        "    self.edad = edad\n",
        "    self.puesto = puesto\n",
        "    self.salario = salario\n",
        "  def obtener_salario(self):\n",
        "    return self.salario"
      ],
      "metadata": {
        "id": "zdb_n3q7bW0e"
      },
      "execution_count": null,
      "outputs": []
    },
    {
      "cell_type": "code",
      "source": [
        "emp1 = Empleado('Juan',25,'Gerente',50000)\n",
        "emp2 = Empleado('Maria',30,'Analista',40000)\n",
        "emp1.obtener_salario()"
      ],
      "metadata": {
        "colab": {
          "base_uri": "https://localhost:8080/"
        },
        "id": "BFgfbzH9bqiM",
        "outputId": "c66f005c-abca-45de-8dec-c8ae6a87ed95"
      },
      "execution_count": null,
      "outputs": [
        {
          "output_type": "execute_result",
          "data": {
            "text/plain": [
              "50000"
            ]
          },
          "metadata": {},
          "execution_count": 150
        }
      ]
    },
    {
      "cell_type": "code",
      "source": [
        "class AjusteSalario(Empleado):\n",
        "  def __init__(self,nombre,edad,puesto,salario,aumento):\n",
        "    super().__init__(nombre,edad,puesto,salario)\n",
        "    self.aumento = aumento\n",
        "  def obtener_salario_ajustado(self):\n",
        "    return self.salario + self.aumento"
      ],
      "metadata": {
        "id": "FjNXSX0_buCG"
      },
      "execution_count": null,
      "outputs": []
    },
    {
      "cell_type": "code",
      "source": [
        "emp1 = AjusteSalario('Juan',25,'Gerente',50000,10000)\n",
        "emp1.obtener_salario_ajustado()"
      ],
      "metadata": {
        "colab": {
          "base_uri": "https://localhost:8080/"
        },
        "id": "UQM8XulZcDZx",
        "outputId": "1286bc5e-23f3-4f1c-a714-b23c6da5c7a9"
      },
      "execution_count": null,
      "outputs": [
        {
          "output_type": "execute_result",
          "data": {
            "text/plain": [
              "60000"
            ]
          },
          "metadata": {},
          "execution_count": 152
        }
      ]
    },
    {
      "cell_type": "markdown",
      "source": [
        "#Taller"
      ],
      "metadata": {
        "id": "JuVAhFPed44s"
      }
    },
    {
      "cell_type": "code",
      "source": [
        "class Producto:\n",
        "  def __init__(self,nombre,precio_base):\n",
        "    self.nombre = nombre\n",
        "    self.precio_base = precio_base\n",
        "  def obtener_precio(self):\n",
        "    return self.precio_base"
      ],
      "metadata": {
        "id": "W-CeKfOhd53X"
      },
      "execution_count": null,
      "outputs": []
    },
    {
      "cell_type": "code",
      "source": [
        "class ProductoConDescuento(Producto):\n",
        "  def __init__(self,nombre,precio_base,porcentaje_descuento):\n",
        "    super().__init__(nombre,precio_base)\n",
        "    self.porcentaje_descuento = porcentaje_descuento\n",
        "  def obtener_precio_final(self):\n",
        "    precio_final = self.precio_base - (self.precio_base * (self.porcentaje_descuento/100))\n",
        "    print(f'El producto {self.nombre} con precio base {self.precio_base} tiene un descuento del {self.porcentaje_descuento}%, queda en {precio_final}')"
      ],
      "metadata": {
        "id": "9-6U5Dh6eDW0"
      },
      "execution_count": null,
      "outputs": []
    },
    {
      "cell_type": "code",
      "source": [
        "Producto1 = Producto('Camiseta',20000)\n",
        "Producto1 = ProductoConDescuento('Camiseta',20000,20)\n",
        "Producto1.obtener_precio_final()"
      ],
      "metadata": {
        "colab": {
          "base_uri": "https://localhost:8080/"
        },
        "id": "m-ZpJOsdeb-k",
        "outputId": "1a7577cd-0480-4432-f86c-1d8bcf807452"
      },
      "execution_count": null,
      "outputs": [
        {
          "output_type": "stream",
          "name": "stdout",
          "text": [
            "El producto Camiseta con precio base 20000 tiene un descuento del 20%, queda en 16000.0\n"
          ]
        }
      ]
    }
  ]
}
