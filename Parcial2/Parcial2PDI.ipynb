{
  "nbformat": 4,
  "nbformat_minor": 0,
  "metadata": {
    "colab": {
      "provenance": [],
      "gpuType": "T4",
      "authorship_tag": "ABX9TyM7mqnX0Ae3oUfF4lLmomvd",
      "include_colab_link": true
    },
    "kernelspec": {
      "name": "python3",
      "display_name": "Python 3"
    },
    "language_info": {
      "name": "python"
    },
    "accelerator": "GPU"
  },
  "cells": [
    {
      "cell_type": "markdown",
      "metadata": {
        "id": "view-in-github",
        "colab_type": "text"
      },
      "source": [
        "<a href=\"https://colab.research.google.com/github/FelipeFerAl/ImageProcessing/blob/main/Parcial2/Parcial2PDI.ipynb\" target=\"_parent\"><img src=\"https://colab.research.google.com/assets/colab-badge.svg\" alt=\"Open In Colab\"/></a>"
      ]
    },
    {
      "cell_type": "code",
      "execution_count": 1,
      "metadata": {
        "id": "WyqZkESkzIy2"
      },
      "outputs": [],
      "source": [
        "import matplotlib.pyplot as plt\n",
        "import tensorflow as tf\n",
        "import numpy as np\n",
        "from tensorflow.keras.models import Sequential\n",
        "from tensorflow.keras.layers import Dense, Conv2D, Flatten, BatchNormalization, Dropout\n",
        "from IPython.display import clear_output\n",
        "!sudo apt install megatools -y\n",
        "clear_output()"
      ]
    },
    {
      "cell_type": "code",
      "source": [
        "!git clone https://github.com/FelipeFerAl/ImageProcessing"
      ],
      "metadata": {
        "colab": {
          "base_uri": "https://localhost:8080/"
        },
        "id": "c3pRraKf1cFS",
        "outputId": "9aa43751-3f62-45ab-d577-d37c44c48440"
      },
      "execution_count": null,
      "outputs": [
        {
          "output_type": "stream",
          "name": "stdout",
          "text": [
            "Cloning into 'ImageProcessing'...\n",
            "remote: Enumerating objects: 213, done.\u001b[K\n",
            "remote: Counting objects: 100% (41/41), done.\u001b[K\n",
            "remote: Compressing objects: 100% (39/39), done.\u001b[K\n",
            "remote: Total 213 (delta 26), reused 1 (delta 1), pack-reused 172 (from 1)\u001b[K\n",
            "Receiving objects: 100% (213/213), 79.13 MiB | 16.51 MiB/s, done.\n",
            "Resolving deltas: 100% (102/102), done.\n"
          ]
        }
      ]
    },
    {
      "cell_type": "code",
      "source": [
        "def precision(y_true, y_pred):\n",
        "  accuracy = 0\n",
        "  idxs=[]\n",
        "  for i in range(len(y_true)):\n",
        "    if y_true[i] == y_pred[i]:\n",
        "      accuracy += 1\n",
        "      idxs.append(i)\n",
        "  return accuracy / len(y_true) * 100, idxs"
      ],
      "metadata": {
        "id": "CazlzPJc_bz6"
      },
      "execution_count": 32,
      "outputs": []
    },
    {
      "cell_type": "markdown",
      "source": [
        "#**MNIST**"
      ],
      "metadata": {
        "id": "-kgpLSTg1vMj"
      }
    },
    {
      "cell_type": "code",
      "source": [
        "(x_train_mnist, y_train_mnist), (x_test_mnist, y_test_mnist) = tf.keras.datasets.mnist.load_data()\n",
        "\n",
        "x_train_mnist = x_train_mnist / 255.0\n",
        "x_test_mnist = x_test_mnist / 255.0"
      ],
      "metadata": {
        "colab": {
          "base_uri": "https://localhost:8080/"
        },
        "id": "ZFoQjmMc1qBz",
        "outputId": "d2a6e062-5a76-4719-c488-394d4d948d59"
      },
      "execution_count": null,
      "outputs": [
        {
          "output_type": "stream",
          "name": "stdout",
          "text": [
            "Downloading data from https://storage.googleapis.com/tensorflow/tf-keras-datasets/mnist.npz\n",
            "\u001b[1m11490434/11490434\u001b[0m \u001b[32m━━━━━━━━━━━━━━━━━━━━\u001b[0m\u001b[37m\u001b[0m \u001b[1m0s\u001b[0m 0us/step\n"
          ]
        }
      ]
    },
    {
      "cell_type": "code",
      "source": [
        "model_mnist = Sequential()\n",
        "model_mnist.add(Conv2D(8, (3,3), activation='relu', input_shape=(28,28,1)))\n",
        "model_mnist.add(Flatten())\n",
        "model_mnist.add(Dense(128, activation='relu'))\n",
        "model_mnist.add(Dense(10, activation='softmax'))\n",
        "\n",
        "model_mnist.compile(optimizer='adam', loss='sparse_categorical_crossentropy', metrics=['accuracy'])"
      ],
      "metadata": {
        "colab": {
          "base_uri": "https://localhost:8080/"
        },
        "id": "g79N384N9x57",
        "outputId": "5e9f8535-a005-4198-9647-df3314f7255d"
      },
      "execution_count": null,
      "outputs": [
        {
          "output_type": "stream",
          "name": "stderr",
          "text": [
            "/usr/local/lib/python3.11/dist-packages/keras/src/layers/convolutional/base_conv.py:107: UserWarning: Do not pass an `input_shape`/`input_dim` argument to a layer. When using Sequential models, prefer using an `Input(shape)` object as the first layer in the model instead.\n",
            "  super().__init__(activity_regularizer=activity_regularizer, **kwargs)\n"
          ]
        }
      ]
    },
    {
      "cell_type": "code",
      "source": [
        "model_mnist = tf.keras.models.load_model('ImageProcessing/Parcial2/modelo_mnist.keras')"
      ],
      "metadata": {
        "id": "nyMf0lgWApJf"
      },
      "execution_count": null,
      "outputs": []
    },
    {
      "cell_type": "code",
      "source": [
        "# model_mnist.fit(x_train_mnist, y_train_mnist, epochs=10, validation_split=0.3)"
      ],
      "metadata": {
        "colab": {
          "base_uri": "https://localhost:8080/"
        },
        "id": "4tEeojQu99T7",
        "outputId": "768e1c5b-c181-450c-ef25-d3d7125526cb"
      },
      "execution_count": null,
      "outputs": [
        {
          "output_type": "stream",
          "name": "stdout",
          "text": [
            "Epoch 1/10\n",
            "\u001b[1m1313/1313\u001b[0m \u001b[32m━━━━━━━━━━━━━━━━━━━━\u001b[0m\u001b[37m\u001b[0m \u001b[1m15s\u001b[0m 11ms/step - accuracy: 0.8927 - loss: 0.3577 - val_accuracy: 0.9737 - val_loss: 0.0879\n",
            "Epoch 2/10\n",
            "\u001b[1m1313/1313\u001b[0m \u001b[32m━━━━━━━━━━━━━━━━━━━━\u001b[0m\u001b[37m\u001b[0m \u001b[1m20s\u001b[0m 11ms/step - accuracy: 0.9814 - loss: 0.0618 - val_accuracy: 0.9791 - val_loss: 0.0728\n",
            "Epoch 3/10\n",
            "\u001b[1m1313/1313\u001b[0m \u001b[32m━━━━━━━━━━━━━━━━━━━━\u001b[0m\u001b[37m\u001b[0m \u001b[1m20s\u001b[0m 11ms/step - accuracy: 0.9914 - loss: 0.0296 - val_accuracy: 0.9763 - val_loss: 0.0874\n",
            "Epoch 4/10\n",
            "\u001b[1m1313/1313\u001b[0m \u001b[32m━━━━━━━━━━━━━━━━━━━━\u001b[0m\u001b[37m\u001b[0m \u001b[1m21s\u001b[0m 11ms/step - accuracy: 0.9936 - loss: 0.0205 - val_accuracy: 0.9809 - val_loss: 0.0795\n",
            "Epoch 5/10\n",
            "\u001b[1m1313/1313\u001b[0m \u001b[32m━━━━━━━━━━━━━━━━━━━━\u001b[0m\u001b[37m\u001b[0m \u001b[1m19s\u001b[0m 10ms/step - accuracy: 0.9955 - loss: 0.0137 - val_accuracy: 0.9808 - val_loss: 0.0783\n",
            "Epoch 6/10\n",
            "\u001b[1m1313/1313\u001b[0m \u001b[32m━━━━━━━━━━━━━━━━━━━━\u001b[0m\u001b[37m\u001b[0m \u001b[1m14s\u001b[0m 11ms/step - accuracy: 0.9982 - loss: 0.0068 - val_accuracy: 0.9794 - val_loss: 0.0885\n",
            "Epoch 7/10\n",
            "\u001b[1m1313/1313\u001b[0m \u001b[32m━━━━━━━━━━━━━━━━━━━━\u001b[0m\u001b[37m\u001b[0m \u001b[1m21s\u001b[0m 11ms/step - accuracy: 0.9972 - loss: 0.0076 - val_accuracy: 0.9791 - val_loss: 0.0913\n",
            "Epoch 8/10\n",
            "\u001b[1m1313/1313\u001b[0m \u001b[32m━━━━━━━━━━━━━━━━━━━━\u001b[0m\u001b[37m\u001b[0m \u001b[1m20s\u001b[0m 11ms/step - accuracy: 0.9979 - loss: 0.0066 - val_accuracy: 0.9812 - val_loss: 0.0930\n",
            "Epoch 9/10\n",
            "\u001b[1m1313/1313\u001b[0m \u001b[32m━━━━━━━━━━━━━━━━━━━━\u001b[0m\u001b[37m\u001b[0m \u001b[1m20s\u001b[0m 11ms/step - accuracy: 0.9986 - loss: 0.0055 - val_accuracy: 0.9793 - val_loss: 0.1066\n",
            "Epoch 10/10\n",
            "\u001b[1m1313/1313\u001b[0m \u001b[32m━━━━━━━━━━━━━━━━━━━━\u001b[0m\u001b[37m\u001b[0m \u001b[1m14s\u001b[0m 11ms/step - accuracy: 0.9983 - loss: 0.0054 - val_accuracy: 0.9810 - val_loss: 0.1067\n"
          ]
        },
        {
          "output_type": "execute_result",
          "data": {
            "text/plain": [
              "<keras.src.callbacks.history.History at 0x78b0c420ead0>"
            ]
          },
          "metadata": {},
          "execution_count": 35
        }
      ]
    },
    {
      "cell_type": "code",
      "source": [
        "y_pred_mnist = model_mnist.predict(x_test_mnist)\n",
        "y_pred_mnist = np.argmax(y_pred_mnist, axis=1)\n",
        "accuracy_mnist = precision(y_test_mnist, y_pred_mnist)\n",
        "print(f\"Precisión: {round(accuracy_mnist,3)}%\")"
      ],
      "metadata": {
        "colab": {
          "base_uri": "https://localhost:8080/"
        },
        "id": "S_UQQ1AA_SLH",
        "outputId": "3559a35b-de4b-4561-9bfc-172e645451d4"
      },
      "execution_count": null,
      "outputs": [
        {
          "output_type": "stream",
          "name": "stdout",
          "text": [
            "\u001b[1m313/313\u001b[0m \u001b[32m━━━━━━━━━━━━━━━━━━━━\u001b[0m\u001b[37m\u001b[0m \u001b[1m1s\u001b[0m 3ms/step\n",
            "Precisión: 98.14%\n"
          ]
        }
      ]
    },
    {
      "cell_type": "code",
      "source": [
        "# model_mnist.save('modelo_mnist.keras')"
      ],
      "metadata": {
        "id": "mrYbRTBeARmW"
      },
      "execution_count": null,
      "outputs": []
    },
    {
      "cell_type": "markdown",
      "source": [
        "#**FASHION MNIST**"
      ],
      "metadata": {
        "id": "yIk7LwUuBh_7"
      }
    },
    {
      "cell_type": "code",
      "source": [
        "(x_train_fmnist, y_train_fmnist), (x_test_fmnist, y_test_fmnist) = tf.keras.datasets.fashion_mnist.load_data()\n",
        "\n",
        "x_train_fmnist = x_train_fmnist / 255.0\n",
        "x_test_fmnist = x_test_fmnist / 255.0"
      ],
      "metadata": {
        "id": "rqIW5pZ6BmNf"
      },
      "execution_count": null,
      "outputs": []
    },
    {
      "cell_type": "code",
      "source": [
        "model_fmnist = Sequential()\n",
        "\n",
        "model_fmnist.add(Conv2D(32, (3, 3), strides=2, activation='relu', padding='same', input_shape=(28,28,1)))\n",
        "model_fmnist.add(BatchNormalization())\n",
        "model_fmnist.add(Flatten())\n",
        "model_fmnist.add(Dense(128, activation='relu'))\n",
        "model_fmnist.add(Dropout(0.5))\n",
        "model_fmnist.add(Dense(10, activation='softmax'))\n",
        "\n",
        "model_fmnist.compile(optimizer='adam', loss='sparse_categorical_crossentropy', metrics=['accuracy'])"
      ],
      "metadata": {
        "colab": {
          "base_uri": "https://localhost:8080/"
        },
        "id": "mXB4qLyJB537",
        "outputId": "0d40e223-a793-406d-e369-0dc6e1861b43"
      },
      "execution_count": null,
      "outputs": [
        {
          "output_type": "stream",
          "name": "stderr",
          "text": [
            "/usr/local/lib/python3.11/dist-packages/keras/src/layers/convolutional/base_conv.py:107: UserWarning: Do not pass an `input_shape`/`input_dim` argument to a layer. When using Sequential models, prefer using an `Input(shape)` object as the first layer in the model instead.\n",
            "  super().__init__(activity_regularizer=activity_regularizer, **kwargs)\n"
          ]
        }
      ]
    },
    {
      "cell_type": "code",
      "source": [
        "model_fmnist = tf.keras.models.load_model('ImageProcessing/Parcial2/modelo_fmnist.keras')"
      ],
      "metadata": {
        "id": "ONIV1l2APGl2"
      },
      "execution_count": null,
      "outputs": []
    },
    {
      "cell_type": "code",
      "source": [
        "# model_fmnist.fit(x_train_fmnist, y_train_fmnist, epochs=10, validation_data=(x_test_fmnist, y_test_fmnist))"
      ],
      "metadata": {
        "colab": {
          "base_uri": "https://localhost:8080/"
        },
        "id": "RcSAixvsCOQw",
        "outputId": "59e57216-070e-4651-c522-2022ae21b9cc"
      },
      "execution_count": null,
      "outputs": [
        {
          "output_type": "stream",
          "name": "stdout",
          "text": [
            "Epoch 1/10\n",
            "\u001b[1m1875/1875\u001b[0m \u001b[32m━━━━━━━━━━━━━━━━━━━━\u001b[0m\u001b[37m\u001b[0m \u001b[1m19s\u001b[0m 10ms/step - accuracy: 0.7852 - loss: 0.6210 - val_accuracy: 0.8711 - val_loss: 0.3565\n",
            "Epoch 2/10\n",
            "\u001b[1m1875/1875\u001b[0m \u001b[32m━━━━━━━━━━━━━━━━━━━━\u001b[0m\u001b[37m\u001b[0m \u001b[1m20s\u001b[0m 10ms/step - accuracy: 0.8721 - loss: 0.3492 - val_accuracy: 0.8821 - val_loss: 0.3165\n",
            "Epoch 3/10\n",
            "\u001b[1m1875/1875\u001b[0m \u001b[32m━━━━━━━━━━━━━━━━━━━━\u001b[0m\u001b[37m\u001b[0m \u001b[1m21s\u001b[0m 10ms/step - accuracy: 0.8916 - loss: 0.2969 - val_accuracy: 0.8902 - val_loss: 0.3038\n",
            "Epoch 4/10\n",
            "\u001b[1m1875/1875\u001b[0m \u001b[32m━━━━━━━━━━━━━━━━━━━━\u001b[0m\u001b[37m\u001b[0m \u001b[1m20s\u001b[0m 10ms/step - accuracy: 0.9014 - loss: 0.2689 - val_accuracy: 0.8980 - val_loss: 0.2957\n",
            "Epoch 5/10\n",
            "\u001b[1m1875/1875\u001b[0m \u001b[32m━━━━━━━━━━━━━━━━━━━━\u001b[0m\u001b[37m\u001b[0m \u001b[1m21s\u001b[0m 10ms/step - accuracy: 0.9112 - loss: 0.2409 - val_accuracy: 0.8979 - val_loss: 0.3104\n",
            "Epoch 6/10\n",
            "\u001b[1m1875/1875\u001b[0m \u001b[32m━━━━━━━━━━━━━━━━━━━━\u001b[0m\u001b[37m\u001b[0m \u001b[1m20s\u001b[0m 10ms/step - accuracy: 0.9174 - loss: 0.2186 - val_accuracy: 0.8909 - val_loss: 0.3411\n",
            "Epoch 7/10\n",
            "\u001b[1m1875/1875\u001b[0m \u001b[32m━━━━━━━━━━━━━━━━━━━━\u001b[0m\u001b[37m\u001b[0m \u001b[1m20s\u001b[0m 10ms/step - accuracy: 0.9241 - loss: 0.2034 - val_accuracy: 0.9047 - val_loss: 0.3183\n",
            "Epoch 8/10\n",
            "\u001b[1m1875/1875\u001b[0m \u001b[32m━━━━━━━━━━━━━━━━━━━━\u001b[0m\u001b[37m\u001b[0m \u001b[1m18s\u001b[0m 10ms/step - accuracy: 0.9288 - loss: 0.1898 - val_accuracy: 0.9015 - val_loss: 0.3139\n",
            "Epoch 9/10\n",
            "\u001b[1m1875/1875\u001b[0m \u001b[32m━━━━━━━━━━━━━━━━━━━━\u001b[0m\u001b[37m\u001b[0m \u001b[1m18s\u001b[0m 10ms/step - accuracy: 0.9323 - loss: 0.1784 - val_accuracy: 0.9019 - val_loss: 0.3115\n",
            "Epoch 10/10\n",
            "\u001b[1m1875/1875\u001b[0m \u001b[32m━━━━━━━━━━━━━━━━━━━━\u001b[0m\u001b[37m\u001b[0m \u001b[1m18s\u001b[0m 10ms/step - accuracy: 0.9369 - loss: 0.1659 - val_accuracy: 0.9069 - val_loss: 0.3279\n"
          ]
        },
        {
          "output_type": "execute_result",
          "data": {
            "text/plain": [
              "<keras.src.callbacks.history.History at 0x78b08b808090>"
            ]
          },
          "metadata": {},
          "execution_count": 126
        }
      ]
    },
    {
      "cell_type": "code",
      "source": [
        "y_pred_fmnist = model_fmnist.predict(x_test_fmnist)\n",
        "y_pred_fmnist = np.argmax(y_pred_fmnist, axis=1)\n",
        "accuracy_fmnist = precision(y_test_fmnist, y_pred_fmnist)\n",
        "print(f\"Precisión: {round(accuracy_fmnist,3)}%\")"
      ],
      "metadata": {
        "colab": {
          "base_uri": "https://localhost:8080/"
        },
        "id": "m10E8NAEElb6",
        "outputId": "a8fd8b9d-85e0-4408-85fa-dff626bd7c54"
      },
      "execution_count": null,
      "outputs": [
        {
          "output_type": "stream",
          "name": "stdout",
          "text": [
            "\u001b[1m313/313\u001b[0m \u001b[32m━━━━━━━━━━━━━━━━━━━━\u001b[0m\u001b[37m\u001b[0m \u001b[1m1s\u001b[0m 2ms/step\n",
            "Precisión: 90.69%\n"
          ]
        }
      ]
    },
    {
      "cell_type": "code",
      "source": [
        "# model_fmnist.save('modelo_fmnist.keras')"
      ],
      "metadata": {
        "id": "7xzzq4s_Ofa2"
      },
      "execution_count": null,
      "outputs": []
    },
    {
      "cell_type": "markdown",
      "source": [
        "#**CIFAR10**"
      ],
      "metadata": {
        "id": "ySVNqrvz4nm5"
      }
    },
    {
      "cell_type": "code",
      "source": [
        "(x_train_cifar10, y_train_cifar10), (x_test_cifar10, y_test_cifar10) = tf.keras.datasets.cifar10.load_data()\n",
        "\n",
        "x_train_cifar10 = x_train_cifar10 / 255.0\n",
        "x_test_cifar10 = x_test_cifar10 / 255.0"
      ],
      "metadata": {
        "id": "_A9QvRup4qCp",
        "outputId": "4ccc695a-a38c-4198-9cc5-a4f81792ebce",
        "colab": {
          "base_uri": "https://localhost:8080/"
        }
      },
      "execution_count": null,
      "outputs": [
        {
          "output_type": "stream",
          "name": "stdout",
          "text": [
            "Downloading data from https://www.cs.toronto.edu/~kriz/cifar-10-python.tar.gz\n",
            "\u001b[1m170498071/170498071\u001b[0m \u001b[32m━━━━━━━━━━━━━━━━━━━━\u001b[0m\u001b[37m\u001b[0m \u001b[1m13s\u001b[0m 0us/step\n"
          ]
        }
      ]
    },
    {
      "cell_type": "code",
      "source": [
        "model_cifar10 = Sequential([\n",
        "    Conv2D(64, (3,3), activation='relu', padding='same', input_shape=(32,32,3)),\n",
        "    BatchNormalization(),\n",
        "    Conv2D(128, (3,3), activation='relu', padding='same', strides=2),\n",
        "    BatchNormalization(),\n",
        "    Conv2D(256, (3,3), activation='relu', padding='same'),\n",
        "    BatchNormalization(),\n",
        "    Conv2D(256, (3,3), activation='relu', padding='same', strides=2),\n",
        "    BatchNormalization(),\n",
        "    Flatten(),\n",
        "    Dense(256, activation='relu'),\n",
        "    Dropout(0.5),\n",
        "    Dense(10, activation='softmax')\n",
        "])\n",
        "\n",
        "model_cifar10.compile(optimizer='adam', loss='sparse_categorical_crossentropy', metrics=['accuracy'])"
      ],
      "metadata": {
        "id": "GYLFFT_w4xnU",
        "outputId": "98ad9b04-50c7-4b48-a73c-79a82c6df61c",
        "colab": {
          "base_uri": "https://localhost:8080/"
        }
      },
      "execution_count": null,
      "outputs": [
        {
          "output_type": "stream",
          "name": "stderr",
          "text": [
            "/usr/local/lib/python3.11/dist-packages/keras/src/layers/convolutional/base_conv.py:107: UserWarning: Do not pass an `input_shape`/`input_dim` argument to a layer. When using Sequential models, prefer using an `Input(shape)` object as the first layer in the model instead.\n",
            "  super().__init__(activity_regularizer=activity_regularizer, **kwargs)\n"
          ]
        }
      ]
    },
    {
      "cell_type": "code",
      "source": [
        "!megadl \"https://mega.nz/file/zu5BQI5Y#BBXYVbSxae3MSV5PZ7xE_9LstSvqW1NIHnPmKQTn-a0\"\n",
        "model_cifar10 = tf.keras.models.load_model('/content/modelo_c10.keras')"
      ],
      "metadata": {
        "id": "lMt3f1a-nGue"
      },
      "execution_count": null,
      "outputs": []
    },
    {
      "cell_type": "code",
      "source": [
        "model_cifar10.fit(x_train_cifar10, y_train_cifar10, epochs=15, validation_split=0.3)"
      ],
      "metadata": {
        "id": "kCdsybV45o2b",
        "outputId": "78a7b2b9-e0cf-4f2e-a809-cc4279ffe9ff",
        "colab": {
          "base_uri": "https://localhost:8080/"
        }
      },
      "execution_count": null,
      "outputs": [
        {
          "output_type": "stream",
          "name": "stdout",
          "text": [
            "Epoch 1/15\n",
            "\u001b[1m1094/1094\u001b[0m \u001b[32m━━━━━━━━━━━━━━━━━━━━\u001b[0m\u001b[37m\u001b[0m \u001b[1m24s\u001b[0m 16ms/step - accuracy: 0.2337 - loss: 2.2355 - val_accuracy: 0.3572 - val_loss: 1.8085\n",
            "Epoch 2/15\n",
            "\u001b[1m1094/1094\u001b[0m \u001b[32m━━━━━━━━━━━━━━━━━━━━\u001b[0m\u001b[37m\u001b[0m \u001b[1m33s\u001b[0m 12ms/step - accuracy: 0.3638 - loss: 1.6826 - val_accuracy: 0.5180 - val_loss: 1.3680\n",
            "Epoch 3/15\n",
            "\u001b[1m1094/1094\u001b[0m \u001b[32m━━━━━━━━━━━━━━━━━━━━\u001b[0m\u001b[37m\u001b[0m \u001b[1m20s\u001b[0m 12ms/step - accuracy: 0.4681 - loss: 1.4325 - val_accuracy: 0.5655 - val_loss: 1.2613\n",
            "Epoch 4/15\n",
            "\u001b[1m1094/1094\u001b[0m \u001b[32m━━━━━━━━━━━━━━━━━━━━\u001b[0m\u001b[37m\u001b[0m \u001b[1m13s\u001b[0m 12ms/step - accuracy: 0.5543 - loss: 1.2166 - val_accuracy: 0.5692 - val_loss: 1.3022\n",
            "Epoch 5/15\n",
            "\u001b[1m1094/1094\u001b[0m \u001b[32m━━━━━━━━━━━━━━━━━━━━\u001b[0m\u001b[37m\u001b[0m \u001b[1m13s\u001b[0m 12ms/step - accuracy: 0.6207 - loss: 1.0522 - val_accuracy: 0.6537 - val_loss: 1.0242\n",
            "Epoch 6/15\n",
            "\u001b[1m1094/1094\u001b[0m \u001b[32m━━━━━━━━━━━━━━━━━━━━\u001b[0m\u001b[37m\u001b[0m \u001b[1m13s\u001b[0m 12ms/step - accuracy: 0.6730 - loss: 0.9121 - val_accuracy: 0.6994 - val_loss: 0.8961\n",
            "Epoch 7/15\n",
            "\u001b[1m1094/1094\u001b[0m \u001b[32m━━━━━━━━━━━━━━━━━━━━\u001b[0m\u001b[37m\u001b[0m \u001b[1m13s\u001b[0m 12ms/step - accuracy: 0.7172 - loss: 0.7970 - val_accuracy: 0.6516 - val_loss: 1.1087\n",
            "Epoch 8/15\n",
            "\u001b[1m1094/1094\u001b[0m \u001b[32m━━━━━━━━━━━━━━━━━━━━\u001b[0m\u001b[37m\u001b[0m \u001b[1m20s\u001b[0m 12ms/step - accuracy: 0.7527 - loss: 0.6970 - val_accuracy: 0.7413 - val_loss: 0.8097\n",
            "Epoch 9/15\n",
            "\u001b[1m1094/1094\u001b[0m \u001b[32m━━━━━━━━━━━━━━━━━━━━\u001b[0m\u001b[37m\u001b[0m \u001b[1m13s\u001b[0m 12ms/step - accuracy: 0.7810 - loss: 0.6201 - val_accuracy: 0.6980 - val_loss: 0.9713\n",
            "Epoch 10/15\n",
            "\u001b[1m1094/1094\u001b[0m \u001b[32m━━━━━━━━━━━━━━━━━━━━\u001b[0m\u001b[37m\u001b[0m \u001b[1m13s\u001b[0m 12ms/step - accuracy: 0.8041 - loss: 0.5460 - val_accuracy: 0.7485 - val_loss: 0.8693\n",
            "Epoch 11/15\n",
            "\u001b[1m1094/1094\u001b[0m \u001b[32m━━━━━━━━━━━━━━━━━━━━\u001b[0m\u001b[37m\u001b[0m \u001b[1m20s\u001b[0m 12ms/step - accuracy: 0.8282 - loss: 0.4822 - val_accuracy: 0.7145 - val_loss: 0.9744\n",
            "Epoch 12/15\n",
            "\u001b[1m1094/1094\u001b[0m \u001b[32m━━━━━━━━━━━━━━━━━━━━\u001b[0m\u001b[37m\u001b[0m \u001b[1m21s\u001b[0m 13ms/step - accuracy: 0.8494 - loss: 0.4272 - val_accuracy: 0.7266 - val_loss: 1.1060\n",
            "Epoch 13/15\n",
            "\u001b[1m1094/1094\u001b[0m \u001b[32m━━━━━━━━━━━━━━━━━━━━\u001b[0m\u001b[37m\u001b[0m \u001b[1m20s\u001b[0m 12ms/step - accuracy: 0.8599 - loss: 0.3944 - val_accuracy: 0.7549 - val_loss: 0.9027\n",
            "Epoch 14/15\n",
            "\u001b[1m1094/1094\u001b[0m \u001b[32m━━━━━━━━━━━━━━━━━━━━\u001b[0m\u001b[37m\u001b[0m \u001b[1m13s\u001b[0m 12ms/step - accuracy: 0.8769 - loss: 0.3414 - val_accuracy: 0.7420 - val_loss: 1.1662\n",
            "Epoch 15/15\n",
            "\u001b[1m1094/1094\u001b[0m \u001b[32m━━━━━━━━━━━━━━━━━━━━\u001b[0m\u001b[37m\u001b[0m \u001b[1m21s\u001b[0m 13ms/step - accuracy: 0.8850 - loss: 0.3247 - val_accuracy: 0.7505 - val_loss: 1.0040\n"
          ]
        },
        {
          "output_type": "execute_result",
          "data": {
            "text/plain": [
              "<keras.src.callbacks.history.History at 0x7808078de510>"
            ]
          },
          "metadata": {},
          "execution_count": 37
        }
      ]
    },
    {
      "cell_type": "code",
      "source": [
        "y_pred_cifar10 = model_cifar10.predict(x_test_cifar10)\n",
        "y_pred_cifar10 = np.argmax(y_pred_cifar10, axis=1)\n",
        "accuracy_cifar10 = precision(y_test_cifar10, y_pred_cifar10)\n",
        "print(f\"Precisión: {round(accuracy_cifar10,3)}%\")"
      ],
      "metadata": {
        "id": "LOlMtTih-jd3",
        "outputId": "5deba31a-ae34-49dd-d74a-5e0dfd8bc42b",
        "colab": {
          "base_uri": "https://localhost:8080/"
        }
      },
      "execution_count": null,
      "outputs": [
        {
          "output_type": "stream",
          "name": "stdout",
          "text": [
            "\u001b[1m313/313\u001b[0m \u001b[32m━━━━━━━━━━━━━━━━━━━━\u001b[0m\u001b[37m\u001b[0m \u001b[1m3s\u001b[0m 6ms/step\n",
            "Precisión: 74.39%\n"
          ]
        }
      ]
    },
    {
      "cell_type": "code",
      "source": [
        "# model_cifar10.save('modelo_cifar10.keras')"
      ],
      "metadata": {
        "id": "yjqGu6aslf1Y"
      },
      "execution_count": null,
      "outputs": []
    },
    {
      "cell_type": "markdown",
      "source": [
        "#**CIFAR100**"
      ],
      "metadata": {
        "id": "oVE_axZVnTrc"
      }
    },
    {
      "cell_type": "code",
      "source": [
        "(x_train_cifar100, y_train_cifar100), (x_test_cifar100, y_test_cifar100) = tf.keras.datasets.cifar100.load_data()\n",
        "\n",
        "x_train_cifar100 = x_train_cifar100 / 255.0\n",
        "x_test_cifar100 = x_test_cifar100 / 255.0"
      ],
      "metadata": {
        "id": "PzYg7dzAnWDN",
        "outputId": "afea5194-0cc9-4817-e2b2-944cb14b512b",
        "colab": {
          "base_uri": "https://localhost:8080/"
        }
      },
      "execution_count": 3,
      "outputs": [
        {
          "output_type": "stream",
          "name": "stdout",
          "text": [
            "Downloading data from https://www.cs.toronto.edu/~kriz/cifar-100-python.tar.gz\n",
            "\u001b[1m169001437/169001437\u001b[0m \u001b[32m━━━━━━━━━━━━━━━━━━━━\u001b[0m\u001b[37m\u001b[0m \u001b[1m5s\u001b[0m 0us/step\n"
          ]
        }
      ]
    },
    {
      "cell_type": "code",
      "source": [
        "model_cifar100 = Sequential([\n",
        "    Conv2D(64, (3,3), activation='relu', padding='same', input_shape=(32,32,3)),\n",
        "    BatchNormalization(),\n",
        "    Conv2D(128, (3,3), activation='relu', padding='same', strides=2),\n",
        "    BatchNormalization(),\n",
        "    Conv2D(256, (3,3), activation='relu', padding='same', strides=2),\n",
        "    BatchNormalization(),\n",
        "    Conv2D(512, (3, 3), activation='relu', padding='same', strides=2),\n",
        "    BatchNormalization(),\n",
        "    Flatten(),\n",
        "    Dense(512, activation='relu'),\n",
        "    Dropout(0.5),\n",
        "    Dense(256, activation='relu'),\n",
        "    Dropout(0.5),\n",
        "    Dense(100, activation='softmax')\n",
        "])\n",
        "\n",
        "optimizer = tf.keras.optimizers.Adam(learning_rate=0.0005)\n",
        "model_cifar100.compile(optimizer=optimizer, loss='sparse_categorical_crossentropy', metrics=['accuracy'])"
      ],
      "metadata": {
        "id": "Wr6HcdzrneAI",
        "outputId": "aa20a9d9-34eb-46ea-d6f5-3ed944d26bff",
        "colab": {
          "base_uri": "https://localhost:8080/"
        }
      },
      "execution_count": 18,
      "outputs": [
        {
          "output_type": "stream",
          "name": "stderr",
          "text": [
            "/usr/local/lib/python3.11/dist-packages/keras/src/layers/convolutional/base_conv.py:107: UserWarning: Do not pass an `input_shape`/`input_dim` argument to a layer. When using Sequential models, prefer using an `Input(shape)` object as the first layer in the model instead.\n",
            "  super().__init__(activity_regularizer=activity_regularizer, **kwargs)\n"
          ]
        }
      ]
    },
    {
      "cell_type": "code",
      "source": [
        "!megadl \"https://mega.nz/file/O2AhjThA#3GtKV2VcmHx4jETLnTh0Uzp4-1n9bBYL8WWWXSg7fTk\"\n",
        "model_cifar100 = tf.keras.models.load_model('/content/modelo_c100.keras')"
      ],
      "metadata": {
        "id": "p8LGirmzEfxj"
      },
      "execution_count": null,
      "outputs": []
    },
    {
      "cell_type": "code",
      "source": [
        "model_cifar100.fit(x_train_cifar100, y_train_cifar100, epochs=15, batch_size=64, validation_split=0.3)"
      ],
      "metadata": {
        "id": "hh15TFrWniwF",
        "outputId": "2efdf95e-85b9-4cb9-93fe-14dc5de0597b",
        "colab": {
          "base_uri": "https://localhost:8080/"
        }
      },
      "execution_count": 19,
      "outputs": [
        {
          "output_type": "stream",
          "name": "stdout",
          "text": [
            "Epoch 1/15\n",
            "\u001b[1m547/547\u001b[0m \u001b[32m━━━━━━━━━━━━━━━━━━━━\u001b[0m\u001b[37m\u001b[0m \u001b[1m29s\u001b[0m 37ms/step - accuracy: 0.0201 - loss: 4.7746 - val_accuracy: 0.0406 - val_loss: 4.3973\n",
            "Epoch 2/15\n",
            "\u001b[1m547/547\u001b[0m \u001b[32m━━━━━━━━━━━━━━━━━━━━\u001b[0m\u001b[37m\u001b[0m \u001b[1m25s\u001b[0m 18ms/step - accuracy: 0.0335 - loss: 4.4151 - val_accuracy: 0.0655 - val_loss: 4.2182\n",
            "Epoch 3/15\n",
            "\u001b[1m547/547\u001b[0m \u001b[32m━━━━━━━━━━━━━━━━━━━━\u001b[0m\u001b[37m\u001b[0m \u001b[1m10s\u001b[0m 18ms/step - accuracy: 0.0418 - loss: 4.3111 - val_accuracy: 0.0637 - val_loss: 4.2220\n",
            "Epoch 4/15\n",
            "\u001b[1m547/547\u001b[0m \u001b[32m━━━━━━━━━━━━━━━━━━━━\u001b[0m\u001b[37m\u001b[0m \u001b[1m10s\u001b[0m 18ms/step - accuracy: 0.0518 - loss: 4.2015 - val_accuracy: 0.0879 - val_loss: 4.0522\n",
            "Epoch 5/15\n",
            "\u001b[1m547/547\u001b[0m \u001b[32m━━━━━━━━━━━━━━━━━━━━\u001b[0m\u001b[37m\u001b[0m \u001b[1m9s\u001b[0m 17ms/step - accuracy: 0.0669 - loss: 4.0782 - val_accuracy: 0.1095 - val_loss: 3.9377\n",
            "Epoch 6/15\n",
            "\u001b[1m547/547\u001b[0m \u001b[32m━━━━━━━━━━━━━━━━━━━━\u001b[0m\u001b[37m\u001b[0m \u001b[1m10s\u001b[0m 17ms/step - accuracy: 0.0802 - loss: 3.9545 - val_accuracy: 0.0839 - val_loss: 4.1037\n",
            "Epoch 7/15\n",
            "\u001b[1m547/547\u001b[0m \u001b[32m━━━━━━━━━━━━━━━━━━━━\u001b[0m\u001b[37m\u001b[0m \u001b[1m10s\u001b[0m 17ms/step - accuracy: 0.1024 - loss: 3.7977 - val_accuracy: 0.1035 - val_loss: 4.0139\n",
            "Epoch 8/15\n",
            "\u001b[1m547/547\u001b[0m \u001b[32m━━━━━━━━━━━━━━━━━━━━\u001b[0m\u001b[37m\u001b[0m \u001b[1m10s\u001b[0m 17ms/step - accuracy: 0.1309 - loss: 3.6080 - val_accuracy: 0.1923 - val_loss: 3.4339\n",
            "Epoch 9/15\n",
            "\u001b[1m547/547\u001b[0m \u001b[32m━━━━━━━━━━━━━━━━━━━━\u001b[0m\u001b[37m\u001b[0m \u001b[1m10s\u001b[0m 17ms/step - accuracy: 0.1686 - loss: 3.3928 - val_accuracy: 0.2210 - val_loss: 3.2594\n",
            "Epoch 10/15\n",
            "\u001b[1m547/547\u001b[0m \u001b[32m━━━━━━━━━━━━━━━━━━━━\u001b[0m\u001b[37m\u001b[0m \u001b[1m10s\u001b[0m 17ms/step - accuracy: 0.2068 - loss: 3.1704 - val_accuracy: 0.2400 - val_loss: 3.1047\n",
            "Epoch 11/15\n",
            "\u001b[1m547/547\u001b[0m \u001b[32m━━━━━━━━━━━━━━━━━━━━\u001b[0m\u001b[37m\u001b[0m \u001b[1m10s\u001b[0m 17ms/step - accuracy: 0.2445 - loss: 2.9452 - val_accuracy: 0.2702 - val_loss: 2.9782\n",
            "Epoch 12/15\n",
            "\u001b[1m547/547\u001b[0m \u001b[32m━━━━━━━━━━━━━━━━━━━━\u001b[0m\u001b[37m\u001b[0m \u001b[1m10s\u001b[0m 18ms/step - accuracy: 0.2848 - loss: 2.7265 - val_accuracy: 0.2989 - val_loss: 2.8306\n",
            "Epoch 13/15\n",
            "\u001b[1m547/547\u001b[0m \u001b[32m━━━━━━━━━━━━━━━━━━━━\u001b[0m\u001b[37m\u001b[0m \u001b[1m10s\u001b[0m 18ms/step - accuracy: 0.3211 - loss: 2.5350 - val_accuracy: 0.3043 - val_loss: 2.8340\n",
            "Epoch 14/15\n",
            "\u001b[1m547/547\u001b[0m \u001b[32m━━━━━━━━━━━━━━━━━━━━\u001b[0m\u001b[37m\u001b[0m \u001b[1m10s\u001b[0m 18ms/step - accuracy: 0.3585 - loss: 2.3555 - val_accuracy: 0.3173 - val_loss: 2.7573\n",
            "Epoch 15/15\n",
            "\u001b[1m547/547\u001b[0m \u001b[32m━━━━━━━━━━━━━━━━━━━━\u001b[0m\u001b[37m\u001b[0m \u001b[1m10s\u001b[0m 18ms/step - accuracy: 0.3934 - loss: 2.1933 - val_accuracy: 0.3353 - val_loss: 2.7104\n"
          ]
        },
        {
          "output_type": "execute_result",
          "data": {
            "text/plain": [
              "<keras.src.callbacks.history.History at 0x7ee58eb3bf10>"
            ]
          },
          "metadata": {},
          "execution_count": 19
        }
      ]
    },
    {
      "cell_type": "code",
      "source": [
        "y_pred_cifar100 = model_cifar100.predict(x_test_cifar100)\n",
        "y_pred_cifar100 = np.argmax(y_pred_cifar100, axis=1)\n",
        "accuracy_cifar100, idxs = precision(y_test_cifar100, y_pred_cifar100)\n",
        "print(f\"Precisión: {round(accuracy_cifar100,3)}%\")"
      ],
      "metadata": {
        "id": "ZUqQN3CVovPJ",
        "outputId": "dd8bb781-73f7-4b11-9d7a-a6087724c23f",
        "colab": {
          "base_uri": "https://localhost:8080/"
        }
      },
      "execution_count": 33,
      "outputs": [
        {
          "output_type": "stream",
          "name": "stdout",
          "text": [
            "\u001b[1m313/313\u001b[0m \u001b[32m━━━━━━━━━━━━━━━━━━━━\u001b[0m\u001b[37m\u001b[0m \u001b[1m2s\u001b[0m 5ms/step\n",
            "Precisión: 33.41%\n"
          ]
        }
      ]
    },
    {
      "cell_type": "code",
      "source": [
        "# model_cifar100.save('modelo_cifar100.keras')"
      ],
      "metadata": {
        "id": "f1TnNi4Lo3ru"
      },
      "execution_count": 36,
      "outputs": []
    }
  ]
}